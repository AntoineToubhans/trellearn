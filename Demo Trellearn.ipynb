{
 "cells": [
  {
   "cell_type": "code",
   "execution_count": null,
   "metadata": {
    "collapsed": false
   },
   "outputs": [],
   "source": [
    "import numpy as np\n",
    "import pandas as pd\n",
    "\n",
    "rawData = pd.read_json('data/sgdir-cards-20161001.json')\n",
    "\n",
    "rawData.info()"
   ]
  },
  {
   "cell_type": "code",
   "execution_count": null,
   "metadata": {
    "collapsed": false
   },
   "outputs": [],
   "source": [
    "rawData.name[101]"
   ]
  },
  {
   "cell_type": "code",
   "execution_count": null,
   "metadata": {
    "collapsed": false
   },
   "outputs": [],
   "source": [
    "rawData.desc[101]"
   ]
  },
  {
   "cell_type": "code",
   "execution_count": null,
   "metadata": {
    "collapsed": false
   },
   "outputs": [],
   "source": [
    "rawData.idLabels[101]"
   ]
  },
  {
   "cell_type": "code",
   "execution_count": null,
   "metadata": {
    "collapsed": false
   },
   "outputs": [],
   "source": [
    "rawText = np.array(rawData.name + ' ' + rawData.desc)\n",
    "\n",
    "rawText[101]"
   ]
  },
  {
   "cell_type": "code",
   "execution_count": null,
   "metadata": {
    "collapsed": false
   },
   "outputs": [],
   "source": [
    "from sklearn.feature_extraction.text import CountVectorizer\n",
    "countVectorizer = CountVectorizer()\n",
    "\n",
    "countVectorizer.fit(['coucou hello theodo bam sicara'])\n",
    "print(\"features:\", countVectorizer.get_feature_names())\n",
    "\n",
    "Xtest = countVectorizer.transform([\n",
    "    \"coucou je suis theodo theodo\",\n",
    "    \"hello je suis bam\",\n",
    "    \"hello hello je suis sicara\"\n",
    "])\n",
    "\n",
    "print(Xtest.toarray())"
   ]
  },
  {
   "cell_type": "code",
   "execution_count": null,
   "metadata": {
    "collapsed": false
   },
   "outputs": [],
   "source": [
    "X_trello = countVectorizer.fit_transform(rawText)\n",
    "\n",
    "X_trello.shape"
   ]
  },
  {
   "cell_type": "code",
   "execution_count": null,
   "metadata": {
    "collapsed": false
   },
   "outputs": [],
   "source": [
    "labels = np.array(rawData.idLabels)\n",
    "\n",
    "print(labels[0])\n",
    "print(labels[100])\n",
    "print(labels[101])"
   ]
  },
  {
   "cell_type": "code",
   "execution_count": null,
   "metadata": {
    "collapsed": false
   },
   "outputs": [],
   "source": [
    "from sklearn.preprocessing import MultiLabelBinarizer\n",
    "multiLabelBinarizer = MultiLabelBinarizer()\n",
    "\n",
    "multiLabelBinarizer.fit([[\"a\", \"b\", \"c\"]])\n",
    "\n",
    "print(\"classes:\", multiLabelBinarizer.classes_)\n",
    "\n",
    "multiLabelBinarizer.transform([\n",
    "        [\"a\", \"b\"],\n",
    "        [],\n",
    "        [\"a\", \"c\"]\n",
    "])"
   ]
  },
  {
   "cell_type": "code",
   "execution_count": null,
   "metadata": {
    "collapsed": false
   },
   "outputs": [],
   "source": [
    "Y_trello = multiLabelBinarizer.fit_transform(labels)\n",
    "\n",
    "Y_trello.shape"
   ]
  },
  {
   "cell_type": "code",
   "execution_count": null,
   "metadata": {
    "collapsed": false
   },
   "outputs": [],
   "source": [
    "from sklearn.datasets import make_blobs\n",
    "import matplotlib.pyplot as plt\n",
    "\n",
    "centers = [[-2, 0], [1, 1]]\n",
    "X, y = make_blobs(n_samples=1000, centers=centers, random_state=40)\n",
    "\n",
    "plt.figure()\n",
    "\n",
    "id0 = np.where(y == 0)\n",
    "plt.scatter(X[id0, 0], X[id0, 1], c='red')\n",
    "\n",
    "id1 = np.where(y == 1)\n",
    "plt.scatter(X[id1, 0], X[id1, 1], c='green')\n",
    "\n",
    "plt.show()"
   ]
  },
  {
   "cell_type": "code",
   "execution_count": null,
   "metadata": {
    "collapsed": false
   },
   "outputs": [],
   "source": [
    "from sklearn.linear_model import LogisticRegression\n",
    "\n",
    "estimator = LogisticRegression()\n",
    "estimator.fit(X, y)\n",
    "\n",
    "print(estimator.score(X, y))\n",
    "\n",
    "coef = estimator.coef_[0]\n",
    "intercept = estimator.intercept_\n",
    "\n",
    "print(coef)\n",
    "print(intercept)\n",
    "\n",
    "print('should be red', estimator.predict_proba([(0, -10)]))\n",
    "print('should be green', estimator.predict_proba([(5, 5)]))\n",
    "print('should be 50/50', estimator.predict_proba([(-0.58/2.56, 0)]))"
   ]
  },
  {
   "cell_type": "code",
   "execution_count": null,
   "metadata": {
    "collapsed": false
   },
   "outputs": [],
   "source": [
    "plt.figure()\n",
    "\n",
    "id0 = np.where(y == 0)\n",
    "plt.scatter(X[id0, 0], X[id0, 1], c='red')\n",
    "\n",
    "id1 = np.where(y == 1)\n",
    "plt.scatter(X[id1, 0], X[id1, 1], c='green')\n",
    "\n",
    "def line(x0):\n",
    "    return (-(x0 * coef[0]) - intercept) / coef[1]\n",
    "plt.plot([-2, 1], [line(-2), line(1)], color='blue')\n",
    "\n",
    "plt.show()"
   ]
  },
  {
   "cell_type": "code",
   "execution_count": null,
   "metadata": {
    "collapsed": false
   },
   "outputs": [],
   "source": [
    "from sklearn.multiclass import OneVsRestClassifier\n",
    "estimator = OneVsRestClassifier(LogisticRegression())\n",
    "\n",
    "estimator.fit(X_trello, Y_trello)\n",
    "\n",
    "print('true:       ', Y_trello[100])\n",
    "print('estimation:', estimator.predict(X_trello[100]))\n",
    "\n",
    "print(estimator.score(X_trello, Y_trello))"
   ]
  },
  {
   "cell_type": "code",
   "execution_count": null,
   "metadata": {
    "collapsed": false
   },
   "outputs": [],
   "source": [
    "estimator.fit(X_trello[0:280], Y_trello[0:280])\n",
    "\n",
    "print(estimator.score(X_trello[280:], Y_trello[280:]))"
   ]
  },
  {
   "cell_type": "code",
   "execution_count": null,
   "metadata": {
    "collapsed": false
   },
   "outputs": [],
   "source": [
    "from sklearn.model_selection import cross_val_score\n",
    "\n",
    "scores = cross_val_score(estimator, X_trello, Y_trello, cv=10)\n",
    "\n",
    "print(scores)\n",
    "print(scores.mean())"
   ]
  },
  {
   "cell_type": "code",
   "execution_count": null,
   "metadata": {
    "collapsed": false
   },
   "outputs": [],
   "source": [
    "from sklearn.metrics import label_ranking_average_precision_score\n",
    "\n",
    "print(label_ranking_average_precision_score([[0,0,1]], [[0.33,0.45,0.55]]))\n",
    "print(label_ranking_average_precision_score([[0,0,1]], [[0.33,0.45,0.44]]))\n",
    "print(label_ranking_average_precision_score([[0,0,1]], [[0.33,0.45,0.32]]))"
   ]
  },
  {
   "cell_type": "code",
   "execution_count": null,
   "metadata": {
    "collapsed": false
   },
   "outputs": [],
   "source": [
    "def myScore(estimator, X, Y):\n",
    "    return label_ranking_average_precision_score(Y, estimator.predict_proba(X))\n",
    "\n",
    "scores = cross_val_score(estimator, X_trello, Y_trello, cv=10, scoring=myScore)\n",
    "\n",
    "print(scores)\n",
    "print(scores.mean())"
   ]
  }
 ],
 "metadata": {
  "anaconda-cloud": {},
  "kernelspec": {
   "display_name": "Python [conda root]",
   "language": "python",
   "name": "conda-root-py"
  },
  "language_info": {
   "codemirror_mode": {
    "name": "ipython",
    "version": 3
   },
   "file_extension": ".py",
   "mimetype": "text/x-python",
   "name": "python",
   "nbconvert_exporter": "python",
   "pygments_lexer": "ipython3",
   "version": "3.5.2"
  }
 },
 "nbformat": 4,
 "nbformat_minor": 1
}
